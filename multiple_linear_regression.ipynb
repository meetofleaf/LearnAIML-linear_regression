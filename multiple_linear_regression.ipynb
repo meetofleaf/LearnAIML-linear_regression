{
 "cells": [
  {
   "cell_type": "markdown",
   "metadata": {},
   "source": [
    "# Linear Regression"
   ]
  },
  {
   "cell_type": "markdown",
   "metadata": {},
   "source": [
    "#### Import Default Libraries"
   ]
  },
  {
   "cell_type": "code",
   "execution_count": 1,
   "metadata": {},
   "outputs": [],
   "source": [
    "import numpy as np\n",
    "import pandas as pd\n",
    "import matplotlib.pyplot as plt"
   ]
  },
  {
   "cell_type": "markdown",
   "metadata": {},
   "source": [
    "#### Data Preparation"
   ]
  },
  {
   "cell_type": "code",
   "execution_count": 2,
   "metadata": {},
   "outputs": [],
   "source": [
    "dataset = pd.read_csv('student_marks.csv')    # Feel free to use your own data by replacing filename in quotes with your data filename."
   ]
  },
  {
   "cell_type": "code",
   "execution_count": 3,
   "metadata": {},
   "outputs": [],
   "source": [
    "# Calculating study time per course for each student. This can also be used as independent variable.\n",
    "#dataset['study_time_per_course'] = dataset['time_study'] / dataset['number_courses']\n",
    "\n",
    "# Columns in order after adding the new variable/column: number_courses, time_study, Marks, study_time_per_course\n",
    "\n",
    "# Extracting independent (X) and dependent (y) columns/fields/variables. You can experiment with different independent variables.\n",
    "X = dataset.iloc[:,1:2].values   # time_study\n",
    "y = dataset.iloc[:,2].values    # Marks\n",
    "# Reference for iloc: https://pandas.pydata.org/docs/reference/api/pandas.DataFrame.iloc.html"
   ]
  },
  {
   "cell_type": "code",
   "execution_count": 4,
   "metadata": {},
   "outputs": [],
   "source": [
    "# Splitting the dataset into training and test set\n",
    "from sklearn.model_selection import train_test_split\n",
    "\n",
    "X_train, X_test, y_train, y_test = train_test_split(X, y, test_size = 0.25, random_state = 0)"
   ]
  },
  {
   "cell_type": "markdown",
   "metadata": {},
   "source": [
    "#### Train the model"
   ]
  },
  {
   "cell_type": "code",
   "execution_count": 5,
   "metadata": {},
   "outputs": [],
   "source": [
    "from sklearn.linear_model import LinearRegression"
   ]
  },
  {
   "cell_type": "code",
   "execution_count": null,
   "metadata": {},
   "outputs": [],
   "source": [
    "# Training the Linear Regression model (named regressor here) on the training set\n",
    "regressor = LinearRegression()      # Define regressor as linear regression model\n",
    "regressor.fit(X_train, y_train)     # Train the model on training data of both independent and dependent data OR\n",
    "                                    # you could simply say, teaching the model using the training data OR\n",
    "                                    # fit the model on the training data, hence function name 'fit'"
   ]
  },
  {
   "cell_type": "markdown",
   "metadata": {},
   "source": [
    "#### Predicting Results"
   ]
  },
  {
   "cell_type": "code",
   "execution_count": null,
   "metadata": {},
   "outputs": [],
   "source": [
    "# Predicting the dependent values using the test set of independent data\n",
    "y_pred = regressor.predict(X_test)\n",
    "# Simply, after learning from training data, the model tries to predict the dependent data (y_pred) from independent data (X_test)\n",
    "\n",
    "# Function to predict marks based on input using previously trained model (regressor)\n",
    "def predictor(input_value):\n",
    "    return regressor.predict([[input_value]])\n",
    "\n",
    "print(predictor(3)) # Based on the independent data that you've set, change the input value from 3 (default) to any value you like.\n",
    "                    # For eg. if you chose to use study time (time_study) as independent variable, then you could enter any reasonable time in hours (1.5, 5, 7 etc.)"
   ]
  },
  {
   "cell_type": "markdown",
   "metadata": {},
   "source": [
    "#### If you were able to run till here successfully, then machine learning part is complete. Let's visualize the model."
   ]
  },
  {
   "cell_type": "markdown",
   "metadata": {},
   "source": [
    "#### Visualization"
   ]
  },
  {
   "cell_type": "code",
   "execution_count": null,
   "metadata": {},
   "outputs": [],
   "source": [
    "# Visualizing Training Results\n",
    "plt.scatter(X_train, y_train, color = 'red')\n",
    "plt.plot(X_train, regressor.predict(X_train), color = 'blue')\n",
    "plt.title('Marks vs Study time')\n",
    "plt.xlabel('Study time')\n",
    "plt.ylabel('Marks')\n",
    "plt.show()"
   ]
  },
  {
   "cell_type": "code",
   "execution_count": null,
   "metadata": {},
   "outputs": [],
   "source": [
    "# Visualizing Test set results\n",
    "plt.scatter(X_test, y_test, color = 'red')\n",
    "plt.plot(X_train, regressor.predict(X_train), color = 'blue')\n",
    "plt.title('Marks vs Study time ')\n",
    "plt.xlabel('Study time')\n",
    "plt.ylabel('Marks')\n",
    "plt.show()\n"
   ]
  },
  {
   "cell_type": "code",
   "execution_count": null,
   "metadata": {},
   "outputs": [],
   "source": []
  }
 ],
 "metadata": {
  "kernelspec": {
   "display_name": "Python 3",
   "language": "python",
   "name": "python3"
  },
  "language_info": {
   "codemirror_mode": {
    "name": "ipython",
    "version": 3
   },
   "file_extension": ".py",
   "mimetype": "text/x-python",
   "name": "python",
   "nbconvert_exporter": "python",
   "pygments_lexer": "ipython3",
   "version": "3.12.1"
  }
 },
 "nbformat": 4,
 "nbformat_minor": 2
}
